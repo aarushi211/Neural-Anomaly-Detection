{
 "cells": [
  {
   "cell_type": "code",
   "execution_count": 1,
   "id": "2edf8123",
   "metadata": {
    "execution": {
     "iopub.execute_input": "2024-04-21T13:00:23.063164Z",
     "iopub.status.busy": "2024-04-21T13:00:23.062751Z",
     "iopub.status.idle": "2024-04-21T13:00:45.007465Z",
     "shell.execute_reply": "2024-04-21T13:00:45.006311Z"
    },
    "papermill": {
     "duration": 21.954424,
     "end_time": "2024-04-21T13:00:45.010422",
     "exception": false,
     "start_time": "2024-04-21T13:00:23.055998",
     "status": "completed"
    },
    "tags": []
   },
   "outputs": [
    {
     "name": "stderr",
     "output_type": "stream",
     "text": [
      "2024-04-21 13:00:25.898840: E external/local_xla/xla/stream_executor/cuda/cuda_dnn.cc:9261] Unable to register cuDNN factory: Attempting to register factory for plugin cuDNN when one has already been registered\n",
      "2024-04-21 13:00:25.898983: E external/local_xla/xla/stream_executor/cuda/cuda_fft.cc:607] Unable to register cuFFT factory: Attempting to register factory for plugin cuFFT when one has already been registered\n",
      "2024-04-21 13:00:26.035364: E external/local_xla/xla/stream_executor/cuda/cuda_blas.cc:1515] Unable to register cuBLAS factory: Attempting to register factory for plugin cuBLAS when one has already been registered\n"
     ]
    }
   ],
   "source": [
    "import pandas as pd\n",
    "import os\n",
    "from tensorflow.keras.models import load_model\n",
    "import tensorflow as tf\n",
    "import keras_cv\n",
    "import keras\n",
    "import joblib\n",
    "from tqdm.notebook import tqdm\n",
    "import numpy as np"
   ]
  },
  {
   "cell_type": "code",
   "execution_count": 2,
   "id": "e5a44f4e",
   "metadata": {
    "execution": {
     "iopub.execute_input": "2024-04-21T13:00:45.021693Z",
     "iopub.status.busy": "2024-04-21T13:00:45.020954Z",
     "iopub.status.idle": "2024-04-21T13:00:45.062966Z",
     "shell.execute_reply": "2024-04-21T13:00:45.061753Z"
    },
    "papermill": {
     "duration": 0.050413,
     "end_time": "2024-04-21T13:00:45.065634",
     "exception": false,
     "start_time": "2024-04-21T13:00:45.015221",
     "status": "completed"
    },
    "tags": []
   },
   "outputs": [
    {
     "data": {
      "text/html": [
       "<div>\n",
       "<style scoped>\n",
       "    .dataframe tbody tr th:only-of-type {\n",
       "        vertical-align: middle;\n",
       "    }\n",
       "\n",
       "    .dataframe tbody tr th {\n",
       "        vertical-align: top;\n",
       "    }\n",
       "\n",
       "    .dataframe thead th {\n",
       "        text-align: right;\n",
       "    }\n",
       "</style>\n",
       "<table border=\"1\" class=\"dataframe\">\n",
       "  <thead>\n",
       "    <tr style=\"text-align: right;\">\n",
       "      <th></th>\n",
       "      <th>spectrogram_id</th>\n",
       "      <th>eeg_id</th>\n",
       "      <th>patient_id</th>\n",
       "      <th>eeg_path</th>\n",
       "      <th>spec_path</th>\n",
       "      <th>spec2_path</th>\n",
       "    </tr>\n",
       "  </thead>\n",
       "  <tbody>\n",
       "    <tr>\n",
       "      <th>0</th>\n",
       "      <td>853520</td>\n",
       "      <td>3911565283</td>\n",
       "      <td>6885</td>\n",
       "      <td>/kaggle/input/hms-harmful-brain-activity-class...</td>\n",
       "      <td>/kaggle/input/hms-harmful-brain-activity-class...</td>\n",
       "      <td>/tmp/dataset/hms-hbac/test_spectrograms/853520...</td>\n",
       "    </tr>\n",
       "  </tbody>\n",
       "</table>\n",
       "</div>"
      ],
      "text/plain": [
       "   spectrogram_id      eeg_id  patient_id  \\\n",
       "0          853520  3911565283        6885   \n",
       "\n",
       "                                            eeg_path  \\\n",
       "0  /kaggle/input/hms-harmful-brain-activity-class...   \n",
       "\n",
       "                                           spec_path  \\\n",
       "0  /kaggle/input/hms-harmful-brain-activity-class...   \n",
       "\n",
       "                                          spec2_path  \n",
       "0  /tmp/dataset/hms-hbac/test_spectrograms/853520...  "
      ]
     },
     "metadata": {},
     "output_type": "display_data"
    }
   ],
   "source": [
    "BASE_PATH = \"/kaggle/input/hms-harmful-brain-activity-classification\"\n",
    "SPEC_DIR = \"/tmp/dataset/hms-hbac\"\n",
    "# os.makedirs(SPEC_DIR+'/train_spectrograms', exist_ok=True)\n",
    "os.makedirs(SPEC_DIR+'/test_spectrograms', exist_ok=True)\n",
    "\n",
    "test_df = pd.read_csv(f'{BASE_PATH}/test.csv')\n",
    "test_df['eeg_path'] = f'{BASE_PATH}/test_eegs/'+test_df['eeg_id'].astype(str)+'.parquet'\n",
    "test_df['spec_path'] = f'{BASE_PATH}/test_spectrograms/'+test_df['spectrogram_id'].astype(str)+'.parquet'\n",
    "test_df['spec2_path'] = f'{SPEC_DIR}/test_spectrograms/'+test_df['spectrogram_id'].astype(str)+'.npy'\n",
    "display(test_df.head(2))"
   ]
  },
  {
   "cell_type": "code",
   "execution_count": 3,
   "id": "63706662",
   "metadata": {
    "execution": {
     "iopub.execute_input": "2024-04-21T13:00:45.076844Z",
     "iopub.status.busy": "2024-04-21T13:00:45.076403Z",
     "iopub.status.idle": "2024-04-21T13:00:45.084438Z",
     "shell.execute_reply": "2024-04-21T13:00:45.083210Z"
    },
    "papermill": {
     "duration": 0.016653,
     "end_time": "2024-04-21T13:00:45.087077",
     "exception": false,
     "start_time": "2024-04-21T13:00:45.070424",
     "status": "completed"
    },
    "tags": []
   },
   "outputs": [],
   "source": [
    "class CFG:\n",
    "    verbose = 1  # Verbosity\n",
    "    seed = 42  # Random seed\n",
    "    preset = \"efficientnetv2_b2_imagenet\"  # Name of pretrained classifier\n",
    "    image_size = [400, 300]  # Input image size\n",
    "    epochs = 13 # Training epochs\n",
    "    batch_size = 64  # Batch size\n",
    "    lr_mode = \"cos\" # LR scheduler mode from one of \"cos\", \"step\", \"exp\"\n",
    "    drop_remainder = True  # Drop incomplete batches\n",
    "    num_classes = 6 # Number of classes in the dataset\n",
    "    fold = 0 # Which fold to set as validation data\n",
    "    class_names = ['Seizure', 'LPD', 'GPD', 'LRDA','GRDA', 'Other']\n",
    "    label2name = dict(enumerate(class_names))\n",
    "    name2label = {v:k for k, v in label2name.items()}"
   ]
  },
  {
   "cell_type": "code",
   "execution_count": 4,
   "id": "35a49814",
   "metadata": {
    "execution": {
     "iopub.execute_input": "2024-04-21T13:00:45.099136Z",
     "iopub.status.busy": "2024-04-21T13:00:45.098709Z",
     "iopub.status.idle": "2024-04-21T13:00:46.447192Z",
     "shell.execute_reply": "2024-04-21T13:00:46.445714Z"
    },
    "papermill": {
     "duration": 1.358423,
     "end_time": "2024-04-21T13:00:46.450632",
     "exception": false,
     "start_time": "2024-04-21T13:00:45.092209",
     "status": "completed"
    },
    "tags": []
   },
   "outputs": [
    {
     "data": {
      "application/vnd.jupyter.widget-view+json": {
       "model_id": "95fa1c2bc70b4584b0a38b040963636c",
       "version_major": 2,
       "version_minor": 0
      },
      "text/plain": [
       "  0%|          | 0/1 [00:00<?, ?it/s]"
      ]
     },
     "metadata": {},
     "output_type": "display_data"
    },
    {
     "name": "stderr",
     "output_type": "stream",
     "text": [
      "/opt/conda/lib/python3.10/site-packages/joblib/externals/loky/backend/fork_exec.py:38: RuntimeWarning: os.fork() was called. os.fork() is incompatible with multithreaded code, and JAX is multithreaded, so this will likely lead to a deadlock.\n",
      "  pid = os.fork()\n"
     ]
    }
   ],
   "source": [
    "# Define a function to process a single eeg_id for test data\n",
    "def process_test_spec(spec_id):\n",
    "    spec_path = f\"{BASE_PATH}/test_spectrograms/{spec_id}.parquet\"\n",
    "    spec = pd.read_parquet(spec_path)\n",
    "    spec = spec.fillna(0).values[:, 1:].T  # Fill NaN values with 0, transpose for (Time, Freq) -> (Freq, Time)\n",
    "    spec = spec.astype(\"float32\")\n",
    "    np.save(f\"{SPEC_DIR}/test_spectrograms/{spec_id}.npy\", spec)\n",
    "\n",
    "# Get unique spec_ids of test data\n",
    "test_spec_ids = test_df[\"spectrogram_id\"].unique()\n",
    "\n",
    "# Parallelize the processing using joblib for test data\n",
    "_ = joblib.Parallel(n_jobs=-1, backend=\"loky\")(\n",
    "    joblib.delayed(process_test_spec)(spec_id)\n",
    "    for spec_id in tqdm(test_spec_ids, total=len(test_spec_ids))\n",
    ")"
   ]
  },
  {
   "cell_type": "code",
   "execution_count": 5,
   "id": "2336c19c",
   "metadata": {
    "execution": {
     "iopub.execute_input": "2024-04-21T13:00:46.463693Z",
     "iopub.status.busy": "2024-04-21T13:00:46.463105Z",
     "iopub.status.idle": "2024-04-21T13:00:46.490300Z",
     "shell.execute_reply": "2024-04-21T13:00:46.488956Z"
    },
    "papermill": {
     "duration": 0.037188,
     "end_time": "2024-04-21T13:00:46.492844",
     "exception": false,
     "start_time": "2024-04-21T13:00:46.455656",
     "status": "completed"
    },
    "tags": []
   },
   "outputs": [],
   "source": [
    "def build_augmenter(dim=CFG.image_size):\n",
    "    augmenters = [\n",
    "        keras_cv.layers.MixUp(alpha=2.0),\n",
    "        keras_cv.layers.RandomCutout(height_factor=(1.0, 1.0),\n",
    "                                     width_factor=(0.06, 0.1)), # freq-masking\n",
    "        keras_cv.layers.RandomCutout(height_factor=(0.06, 0.1),\n",
    "                                     width_factor=(1.0, 1.0)), # time-masking\n",
    "    ]\n",
    "    \n",
    "    def augment(img, label):\n",
    "        data = {\"images\":img, \"labels\":label}\n",
    "        for augmenter in augmenters:\n",
    "            if tf.random.uniform([]) < 0.5:\n",
    "                data = augmenter(data, training=True)\n",
    "        return data[\"images\"], data[\"labels\"]\n",
    "    \n",
    "    return augment\n",
    "\n",
    "\n",
    "def build_decoder(with_labels=True, target_size=CFG.image_size, dtype=32):\n",
    "    def decode_signal(path, offset=None):\n",
    "        # Read .npy files and process the signal\n",
    "        file_bytes = tf.io.read_file(path)\n",
    "        sig = tf.io.decode_raw(file_bytes, tf.float32)\n",
    "        sig = sig[1024//dtype:]  # Remove header tag\n",
    "        sig = tf.reshape(sig, [400, -1])\n",
    "        \n",
    "        # Extract labeled subsample from full spectrogram using \"offset\"\n",
    "        if offset is not None: \n",
    "            offset = offset // 2  # Only odd values are given\n",
    "            sig = sig[:, offset:offset+300]\n",
    "            \n",
    "            # Pad spectrogram to ensure the same input shape of [400, 300]\n",
    "            pad_size = tf.math.maximum(0, 300 - tf.shape(sig)[1])\n",
    "            sig = tf.pad(sig, [[0, 0], [0, pad_size]])\n",
    "            sig = tf.reshape(sig, [400, 300])\n",
    "        \n",
    "        # Log spectrogram \n",
    "        sig = tf.clip_by_value(sig, tf.math.exp(-4.0), tf.math.exp(8.0)) # avoid 0 in log\n",
    "        sig = tf.math.log(sig)\n",
    "        \n",
    "        # Normalize spectrogram\n",
    "        sig -= tf.math.reduce_mean(sig)\n",
    "        sig /= tf.math.reduce_std(sig) + 1e-6\n",
    "        \n",
    "        # Mono channel to 3 channels to use \"ImageNet\" weights\n",
    "        sig = tf.tile(sig[..., None], [1, 1, 3])\n",
    "        return sig\n",
    "    \n",
    "    def decode_label(label):\n",
    "        label = tf.one_hot(label, CFG.num_classes)\n",
    "        label = tf.cast(label, tf.float32)\n",
    "        label = tf.reshape(label, [CFG.num_classes])\n",
    "        return label\n",
    "    \n",
    "    def decode_with_labels(path, offset=None, label=None):\n",
    "        sig = decode_signal(path, offset)\n",
    "        label = decode_label(label)\n",
    "        return (sig, label)\n",
    "    \n",
    "    return decode_with_labels if with_labels else decode_signal\n",
    "\n",
    "\n",
    "def build_dataset(paths, offsets=None, labels=None, batch_size=32, cache=True,\n",
    "                  decode_fn=None, augment_fn=None,\n",
    "                  augment=False, repeat=True, shuffle=1024, \n",
    "                  cache_dir=\"\", drop_remainder=False):\n",
    "    if cache_dir != \"\" and cache is True:\n",
    "        os.makedirs(cache_dir, exist_ok=True)\n",
    "    \n",
    "    if decode_fn is None:\n",
    "        decode_fn = build_decoder(labels is not None)\n",
    "    \n",
    "    if augment_fn is None:\n",
    "        augment_fn = build_augmenter()\n",
    "    \n",
    "    AUTO = tf.data.experimental.AUTOTUNE\n",
    "    slices = (paths, offsets) if labels is None else (paths, offsets, labels)\n",
    "    \n",
    "    ds = tf.data.Dataset.from_tensor_slices(slices)\n",
    "    ds = ds.map(decode_fn, num_parallel_calls=AUTO)\n",
    "    ds = ds.cache(cache_dir) if cache else ds\n",
    "    ds = ds.repeat() if repeat else ds\n",
    "    if shuffle: \n",
    "        ds = ds.shuffle(shuffle, seed=CFG.seed)\n",
    "        opt = tf.data.Options()\n",
    "        opt.experimental_deterministic = False\n",
    "        ds = ds.with_options(opt)\n",
    "    ds = ds.batch(batch_size, drop_remainder=drop_remainder)\n",
    "    ds = ds.map(augment_fn, num_parallel_calls=AUTO) if augment else ds\n",
    "    ds = ds.prefetch(AUTO)\n",
    "    return ds"
   ]
  },
  {
   "cell_type": "code",
   "execution_count": 6,
   "id": "9457384d",
   "metadata": {
    "execution": {
     "iopub.execute_input": "2024-04-21T13:00:46.504501Z",
     "iopub.status.busy": "2024-04-21T13:00:46.504073Z",
     "iopub.status.idle": "2024-04-21T13:01:02.986424Z",
     "shell.execute_reply": "2024-04-21T13:01:02.985352Z"
    },
    "papermill": {
     "duration": 16.491373,
     "end_time": "2024-04-21T13:01:02.989190",
     "exception": false,
     "start_time": "2024-04-21T13:00:46.497817",
     "status": "completed"
    },
    "tags": []
   },
   "outputs": [],
   "source": [
    "model = keras.models.load_model(\"/kaggle/input/efficientnetv2-outputs/best_model.keras\")"
   ]
  },
  {
   "cell_type": "code",
   "execution_count": 7,
   "id": "226b26d3",
   "metadata": {
    "execution": {
     "iopub.execute_input": "2024-04-21T13:01:03.001697Z",
     "iopub.status.busy": "2024-04-21T13:01:03.000529Z",
     "iopub.status.idle": "2024-04-21T13:01:12.966910Z",
     "shell.execute_reply": "2024-04-21T13:01:12.965761Z"
    },
    "papermill": {
     "duration": 9.975216,
     "end_time": "2024-04-21T13:01:12.969471",
     "exception": false,
     "start_time": "2024-04-21T13:01:02.994255",
     "status": "completed"
    },
    "tags": []
   },
   "outputs": [
    {
     "name": "stderr",
     "output_type": "stream",
     "text": [
      "WARNING: All log messages before absl::InitializeLog() is called are written to STDERR\n",
      "I0000 00:00:1713704472.077759      74 device_compiler.h:186] Compiled cluster using XLA!  This line is logged at most once for the lifetime of the process.\n",
      "2024-04-21 13:01:12.089317: E external/local_xla/xla/stream_executor/stream_executor_internal.h:177] SetPriority unimplemented for this stream.\n"
     ]
    },
    {
     "name": "stdout",
     "output_type": "stream",
     "text": [
      "\u001b[1m1/1\u001b[0m \u001b[32m━━━━━━━━━━━━━━━━━━━━\u001b[0m\u001b[37m\u001b[0m \u001b[1m10s\u001b[0m 10s/step\n"
     ]
    },
    {
     "data": {
      "text/plain": [
       "array([[8.4546683e-03, 3.1703297e-02, 1.2349279e-04, 9.3794221e-01,\n",
       "        5.4124352e-03, 1.6363883e-02]], dtype=float32)"
      ]
     },
     "execution_count": 7,
     "metadata": {},
     "output_type": "execute_result"
    }
   ],
   "source": [
    "test_paths = test_df.spec2_path.values\n",
    "test_ds = build_dataset(test_paths, batch_size=min(CFG.batch_size, len(test_df)),\n",
    "                         repeat=False, shuffle=False, cache=False, augment=False)\n",
    "preds = model.predict(test_ds)\n",
    "preds"
   ]
  },
  {
   "cell_type": "code",
   "execution_count": 8,
   "id": "a292d930",
   "metadata": {
    "execution": {
     "iopub.execute_input": "2024-04-21T13:01:12.982748Z",
     "iopub.status.busy": "2024-04-21T13:01:12.981729Z",
     "iopub.status.idle": "2024-04-21T13:01:13.005950Z",
     "shell.execute_reply": "2024-04-21T13:01:13.004748Z"
    },
    "papermill": {
     "duration": 0.033748,
     "end_time": "2024-04-21T13:01:13.008683",
     "exception": false,
     "start_time": "2024-04-21T13:01:12.974935",
     "status": "completed"
    },
    "tags": []
   },
   "outputs": [
    {
     "data": {
      "text/html": [
       "<div>\n",
       "<style scoped>\n",
       "    .dataframe tbody tr th:only-of-type {\n",
       "        vertical-align: middle;\n",
       "    }\n",
       "\n",
       "    .dataframe tbody tr th {\n",
       "        vertical-align: top;\n",
       "    }\n",
       "\n",
       "    .dataframe thead th {\n",
       "        text-align: right;\n",
       "    }\n",
       "</style>\n",
       "<table border=\"1\" class=\"dataframe\">\n",
       "  <thead>\n",
       "    <tr style=\"text-align: right;\">\n",
       "      <th></th>\n",
       "      <th>eeg_id</th>\n",
       "      <th>seizure_vote</th>\n",
       "      <th>lpd_vote</th>\n",
       "      <th>gpd_vote</th>\n",
       "      <th>lrda_vote</th>\n",
       "      <th>grda_vote</th>\n",
       "      <th>other_vote</th>\n",
       "    </tr>\n",
       "  </thead>\n",
       "  <tbody>\n",
       "    <tr>\n",
       "      <th>0</th>\n",
       "      <td>3911565283</td>\n",
       "      <td>0.008455</td>\n",
       "      <td>0.031703</td>\n",
       "      <td>0.000123</td>\n",
       "      <td>0.937942</td>\n",
       "      <td>0.005412</td>\n",
       "      <td>0.016364</td>\n",
       "    </tr>\n",
       "  </tbody>\n",
       "</table>\n",
       "</div>"
      ],
      "text/plain": [
       "       eeg_id  seizure_vote  lpd_vote  gpd_vote  lrda_vote  grda_vote  \\\n",
       "0  3911565283      0.008455  0.031703  0.000123   0.937942   0.005412   \n",
       "\n",
       "   other_vote  \n",
       "0    0.016364  "
      ]
     },
     "execution_count": 8,
     "metadata": {},
     "output_type": "execute_result"
    }
   ],
   "source": [
    "pred_df = test_df[[\"eeg_id\"]].copy()\n",
    "target_cols = [x.lower()+'_vote' for x in CFG.class_names]\n",
    "pred_df[target_cols] = preds.tolist()\n",
    "pred_df"
   ]
  },
  {
   "cell_type": "code",
   "execution_count": null,
   "id": "4db32eb3",
   "metadata": {
    "papermill": {
     "duration": 0.005299,
     "end_time": "2024-04-21T13:01:13.019785",
     "exception": false,
     "start_time": "2024-04-21T13:01:13.014486",
     "status": "completed"
    },
    "tags": []
   },
   "outputs": [],
   "source": []
  }
 ],
 "metadata": {
  "kaggle": {
   "accelerator": "none",
   "dataSources": [
    {
     "databundleVersionId": 7469972,
     "sourceId": 59093,
     "sourceType": "competition"
    },
    {
     "datasetId": 4845928,
     "sourceId": 8184226,
     "sourceType": "datasetVersion"
    }
   ],
   "dockerImageVersionId": 30698,
   "isGpuEnabled": false,
   "isInternetEnabled": true,
   "language": "python",
   "sourceType": "notebook"
  },
  "kernelspec": {
   "display_name": "Python 3",
   "language": "python",
   "name": "python3"
  },
  "language_info": {
   "codemirror_mode": {
    "name": "ipython",
    "version": 3
   },
   "file_extension": ".py",
   "mimetype": "text/x-python",
   "name": "python",
   "nbconvert_exporter": "python",
   "pygments_lexer": "ipython3",
   "version": "3.10.13"
  },
  "papermill": {
   "default_parameters": {},
   "duration": 55.713112,
   "end_time": "2024-04-21T13:01:15.647465",
   "environment_variables": {},
   "exception": null,
   "input_path": "__notebook__.ipynb",
   "output_path": "__notebook__.ipynb",
   "parameters": {},
   "start_time": "2024-04-21T13:00:19.934353",
   "version": "2.5.0"
  },
  "widgets": {
   "application/vnd.jupyter.widget-state+json": {
    "state": {
     "32fc54e61850497cbaeead645f0e2381": {
      "model_module": "@jupyter-widgets/base",
      "model_module_version": "1.2.0",
      "model_name": "LayoutModel",
      "state": {
       "_model_module": "@jupyter-widgets/base",
       "_model_module_version": "1.2.0",
       "_model_name": "LayoutModel",
       "_view_count": null,
       "_view_module": "@jupyter-widgets/base",
       "_view_module_version": "1.2.0",
       "_view_name": "LayoutView",
       "align_content": null,
       "align_items": null,
       "align_self": null,
       "border": null,
       "bottom": null,
       "display": null,
       "flex": null,
       "flex_flow": null,
       "grid_area": null,
       "grid_auto_columns": null,
       "grid_auto_flow": null,
       "grid_auto_rows": null,
       "grid_column": null,
       "grid_gap": null,
       "grid_row": null,
       "grid_template_areas": null,
       "grid_template_columns": null,
       "grid_template_rows": null,
       "height": null,
       "justify_content": null,
       "justify_items": null,
       "left": null,
       "margin": null,
       "max_height": null,
       "max_width": null,
       "min_height": null,
       "min_width": null,
       "object_fit": null,
       "object_position": null,
       "order": null,
       "overflow": null,
       "overflow_x": null,
       "overflow_y": null,
       "padding": null,
       "right": null,
       "top": null,
       "visibility": null,
       "width": null
      }
     },
     "471dbbd76d3c49e98a2b4531bd0321b6": {
      "model_module": "@jupyter-widgets/controls",
      "model_module_version": "1.5.0",
      "model_name": "FloatProgressModel",
      "state": {
       "_dom_classes": [],
       "_model_module": "@jupyter-widgets/controls",
       "_model_module_version": "1.5.0",
       "_model_name": "FloatProgressModel",
       "_view_count": null,
       "_view_module": "@jupyter-widgets/controls",
       "_view_module_version": "1.5.0",
       "_view_name": "ProgressView",
       "bar_style": "success",
       "description": "",
       "description_tooltip": null,
       "layout": "IPY_MODEL_9598087ec1c9441ba2f665dd50810909",
       "max": 1.0,
       "min": 0.0,
       "orientation": "horizontal",
       "style": "IPY_MODEL_f5c0fd4f268a44fd9647a3261e8a9597",
       "value": 1.0
      }
     },
     "5d8e0c347b3241c0880f3d1d94d98b0b": {
      "model_module": "@jupyter-widgets/controls",
      "model_module_version": "1.5.0",
      "model_name": "HTMLModel",
      "state": {
       "_dom_classes": [],
       "_model_module": "@jupyter-widgets/controls",
       "_model_module_version": "1.5.0",
       "_model_name": "HTMLModel",
       "_view_count": null,
       "_view_module": "@jupyter-widgets/controls",
       "_view_module_version": "1.5.0",
       "_view_name": "HTMLView",
       "description": "",
       "description_tooltip": null,
       "layout": "IPY_MODEL_7705b785c1714b7ea12460239e6412ad",
       "placeholder": "​",
       "style": "IPY_MODEL_e6a4760b7adf4b6ebfd74e65d0b22943",
       "value": "100%"
      }
     },
     "5e245dbd0b044cbe9da31adb1ef2f084": {
      "model_module": "@jupyter-widgets/controls",
      "model_module_version": "1.5.0",
      "model_name": "DescriptionStyleModel",
      "state": {
       "_model_module": "@jupyter-widgets/controls",
       "_model_module_version": "1.5.0",
       "_model_name": "DescriptionStyleModel",
       "_view_count": null,
       "_view_module": "@jupyter-widgets/base",
       "_view_module_version": "1.2.0",
       "_view_name": "StyleView",
       "description_width": ""
      }
     },
     "6bb261dbf36e4da8a8bb100c538f8c4f": {
      "model_module": "@jupyter-widgets/controls",
      "model_module_version": "1.5.0",
      "model_name": "HTMLModel",
      "state": {
       "_dom_classes": [],
       "_model_module": "@jupyter-widgets/controls",
       "_model_module_version": "1.5.0",
       "_model_name": "HTMLModel",
       "_view_count": null,
       "_view_module": "@jupyter-widgets/controls",
       "_view_module_version": "1.5.0",
       "_view_name": "HTMLView",
       "description": "",
       "description_tooltip": null,
       "layout": "IPY_MODEL_32fc54e61850497cbaeead645f0e2381",
       "placeholder": "​",
       "style": "IPY_MODEL_5e245dbd0b044cbe9da31adb1ef2f084",
       "value": " 1/1 [00:00&lt;00:00, 26.06it/s]"
      }
     },
     "7705b785c1714b7ea12460239e6412ad": {
      "model_module": "@jupyter-widgets/base",
      "model_module_version": "1.2.0",
      "model_name": "LayoutModel",
      "state": {
       "_model_module": "@jupyter-widgets/base",
       "_model_module_version": "1.2.0",
       "_model_name": "LayoutModel",
       "_view_count": null,
       "_view_module": "@jupyter-widgets/base",
       "_view_module_version": "1.2.0",
       "_view_name": "LayoutView",
       "align_content": null,
       "align_items": null,
       "align_self": null,
       "border": null,
       "bottom": null,
       "display": null,
       "flex": null,
       "flex_flow": null,
       "grid_area": null,
       "grid_auto_columns": null,
       "grid_auto_flow": null,
       "grid_auto_rows": null,
       "grid_column": null,
       "grid_gap": null,
       "grid_row": null,
       "grid_template_areas": null,
       "grid_template_columns": null,
       "grid_template_rows": null,
       "height": null,
       "justify_content": null,
       "justify_items": null,
       "left": null,
       "margin": null,
       "max_height": null,
       "max_width": null,
       "min_height": null,
       "min_width": null,
       "object_fit": null,
       "object_position": null,
       "order": null,
       "overflow": null,
       "overflow_x": null,
       "overflow_y": null,
       "padding": null,
       "right": null,
       "top": null,
       "visibility": null,
       "width": null
      }
     },
     "9598087ec1c9441ba2f665dd50810909": {
      "model_module": "@jupyter-widgets/base",
      "model_module_version": "1.2.0",
      "model_name": "LayoutModel",
      "state": {
       "_model_module": "@jupyter-widgets/base",
       "_model_module_version": "1.2.0",
       "_model_name": "LayoutModel",
       "_view_count": null,
       "_view_module": "@jupyter-widgets/base",
       "_view_module_version": "1.2.0",
       "_view_name": "LayoutView",
       "align_content": null,
       "align_items": null,
       "align_self": null,
       "border": null,
       "bottom": null,
       "display": null,
       "flex": null,
       "flex_flow": null,
       "grid_area": null,
       "grid_auto_columns": null,
       "grid_auto_flow": null,
       "grid_auto_rows": null,
       "grid_column": null,
       "grid_gap": null,
       "grid_row": null,
       "grid_template_areas": null,
       "grid_template_columns": null,
       "grid_template_rows": null,
       "height": null,
       "justify_content": null,
       "justify_items": null,
       "left": null,
       "margin": null,
       "max_height": null,
       "max_width": null,
       "min_height": null,
       "min_width": null,
       "object_fit": null,
       "object_position": null,
       "order": null,
       "overflow": null,
       "overflow_x": null,
       "overflow_y": null,
       "padding": null,
       "right": null,
       "top": null,
       "visibility": null,
       "width": null
      }
     },
     "95fa1c2bc70b4584b0a38b040963636c": {
      "model_module": "@jupyter-widgets/controls",
      "model_module_version": "1.5.0",
      "model_name": "HBoxModel",
      "state": {
       "_dom_classes": [],
       "_model_module": "@jupyter-widgets/controls",
       "_model_module_version": "1.5.0",
       "_model_name": "HBoxModel",
       "_view_count": null,
       "_view_module": "@jupyter-widgets/controls",
       "_view_module_version": "1.5.0",
       "_view_name": "HBoxView",
       "box_style": "",
       "children": [
        "IPY_MODEL_5d8e0c347b3241c0880f3d1d94d98b0b",
        "IPY_MODEL_471dbbd76d3c49e98a2b4531bd0321b6",
        "IPY_MODEL_6bb261dbf36e4da8a8bb100c538f8c4f"
       ],
       "layout": "IPY_MODEL_fb0a7ad3619d48528876a785ad667a4e"
      }
     },
     "e6a4760b7adf4b6ebfd74e65d0b22943": {
      "model_module": "@jupyter-widgets/controls",
      "model_module_version": "1.5.0",
      "model_name": "DescriptionStyleModel",
      "state": {
       "_model_module": "@jupyter-widgets/controls",
       "_model_module_version": "1.5.0",
       "_model_name": "DescriptionStyleModel",
       "_view_count": null,
       "_view_module": "@jupyter-widgets/base",
       "_view_module_version": "1.2.0",
       "_view_name": "StyleView",
       "description_width": ""
      }
     },
     "f5c0fd4f268a44fd9647a3261e8a9597": {
      "model_module": "@jupyter-widgets/controls",
      "model_module_version": "1.5.0",
      "model_name": "ProgressStyleModel",
      "state": {
       "_model_module": "@jupyter-widgets/controls",
       "_model_module_version": "1.5.0",
       "_model_name": "ProgressStyleModel",
       "_view_count": null,
       "_view_module": "@jupyter-widgets/base",
       "_view_module_version": "1.2.0",
       "_view_name": "StyleView",
       "bar_color": null,
       "description_width": ""
      }
     },
     "fb0a7ad3619d48528876a785ad667a4e": {
      "model_module": "@jupyter-widgets/base",
      "model_module_version": "1.2.0",
      "model_name": "LayoutModel",
      "state": {
       "_model_module": "@jupyter-widgets/base",
       "_model_module_version": "1.2.0",
       "_model_name": "LayoutModel",
       "_view_count": null,
       "_view_module": "@jupyter-widgets/base",
       "_view_module_version": "1.2.0",
       "_view_name": "LayoutView",
       "align_content": null,
       "align_items": null,
       "align_self": null,
       "border": null,
       "bottom": null,
       "display": null,
       "flex": null,
       "flex_flow": null,
       "grid_area": null,
       "grid_auto_columns": null,
       "grid_auto_flow": null,
       "grid_auto_rows": null,
       "grid_column": null,
       "grid_gap": null,
       "grid_row": null,
       "grid_template_areas": null,
       "grid_template_columns": null,
       "grid_template_rows": null,
       "height": null,
       "justify_content": null,
       "justify_items": null,
       "left": null,
       "margin": null,
       "max_height": null,
       "max_width": null,
       "min_height": null,
       "min_width": null,
       "object_fit": null,
       "object_position": null,
       "order": null,
       "overflow": null,
       "overflow_x": null,
       "overflow_y": null,
       "padding": null,
       "right": null,
       "top": null,
       "visibility": null,
       "width": null
      }
     }
    },
    "version_major": 2,
    "version_minor": 0
   }
  }
 },
 "nbformat": 4,
 "nbformat_minor": 5
}
